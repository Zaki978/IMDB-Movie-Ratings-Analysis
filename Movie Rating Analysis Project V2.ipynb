{
 "cells": [
  {
   "cell_type": "code",
   "execution_count": 1,
   "id": "c4eccb05",
   "metadata": {},
   "outputs": [],
   "source": [
    "import pandas as pd\n",
    "import numpy as np\n",
    "import scipy as sc\n",
    "import matplotlib.pyplot as plt\n",
    "import seaborn as sns\n",
    "\n",
    "plt.style.use('fivethirtyeight')\n",
    "\n",
    "pd.set_option('display.max_rows', 50)\n",
    "pd.set_option('display.max_columns', 50)"
   ]
  },
  {
   "cell_type": "code",
   "execution_count": 2,
   "id": "84261cd7",
   "metadata": {},
   "outputs": [],
   "source": [
    "# Load IMDb datasets for movie ratings and basic movie information and store it in dataframe variables\n",
    "imdb_ratings = pd.read_csv('title.ratings.tsv.gz', sep='\\t', low_memory=False)\n",
    "\n",
    "# Alternative way of loading the file\n",
    "#title_basics = pd.read_csv('C:\\Users\\Zaki Georgetown\\OneDrive\\Desktop\\Python Projects\\Movie Rating Analysis\\title.basics.tsv.gz', \n",
    "                           #sep='\\t', \n",
    "                           #low_memory=False)\n",
    "\n",
    "title_basics = pd.read_csv('title.basics.tsv.gz', sep='\\t', low_memory=False)\n"
   ]
  },
  {
   "cell_type": "code",
   "execution_count": 3,
   "id": "fdb6f09a",
   "metadata": {
    "scrolled": true
   },
   "outputs": [
    {
     "name": "stdout",
     "output_type": "stream",
     "text": [
      "      tconst  averageRating  numVotes\n",
      "0  tt0000001            5.7      2015\n",
      "1  tt0000002            5.7       272\n",
      "2  tt0000003            6.5      1935\n",
      "3  tt0000004            5.4       179\n",
      "4  tt0000005            6.2      2706\n"
     ]
    }
   ],
   "source": [
    "#Display the first 5 rows of the ratings dataset\n",
    "print(imdb_ratings.head())"
   ]
  },
  {
   "cell_type": "code",
   "execution_count": 4,
   "id": "bf9cd90d",
   "metadata": {},
   "outputs": [
    {
     "name": "stdout",
     "output_type": "stream",
     "text": [
      "<class 'pandas.core.frame.DataFrame'>\n",
      "RangeIndex: 1384137 entries, 0 to 1384136\n",
      "Data columns (total 3 columns):\n",
      " #   Column         Non-Null Count    Dtype  \n",
      "---  ------         --------------    -----  \n",
      " 0   tconst         1384137 non-null  object \n",
      " 1   averageRating  1384137 non-null  float64\n",
      " 2   numVotes       1384137 non-null  int64  \n",
      "dtypes: float64(1), int64(1), object(1)\n",
      "memory usage: 31.7+ MB\n"
     ]
    }
   ],
   "source": [
    "#Check the column-wise info of the ratings dataset\n",
    "imdb_ratings.info()"
   ]
  },
  {
   "cell_type": "code",
   "execution_count": 5,
   "id": "fa9df5d5",
   "metadata": {
    "scrolled": true
   },
   "outputs": [
    {
     "name": "stdout",
     "output_type": "stream",
     "text": [
      "          ID  Average Rating  Number of Ratings\n",
      "0  tt0000001             5.7               2015\n",
      "1  tt0000002             5.7                272\n",
      "2  tt0000003             6.5               1935\n",
      "3  tt0000004             5.4                179\n",
      "4  tt0000005             6.2               2706\n"
     ]
    }
   ],
   "source": [
    "#Rename columuns and print first 5 rows again\n",
    "imdb_ratings.columns = [\"ID\", \"Average Rating\", \"Number of Ratings\"]\n",
    "print(imdb_ratings.head())"
   ]
  },
  {
   "cell_type": "code",
   "execution_count": 6,
   "id": "f4d34017",
   "metadata": {},
   "outputs": [
    {
     "data": {
      "text/plain": [
       "ID                   0\n",
       "Average Rating       0\n",
       "Number of Ratings    0\n",
       "dtype: int64"
      ]
     },
     "execution_count": 6,
     "metadata": {},
     "output_type": "execute_result"
    }
   ],
   "source": [
    "#Check if there are any titles that don't have ratings\n",
    "imdb_ratings.isnull().sum()"
   ]
  },
  {
   "cell_type": "code",
   "execution_count": 7,
   "id": "0f1654b8",
   "metadata": {},
   "outputs": [
    {
     "data": {
      "text/plain": [
       "'If this number 1384137 is equal to 1384137, then all the titles rated in this dataset are unique.'"
      ]
     },
     "execution_count": 7,
     "metadata": {},
     "output_type": "execute_result"
    }
   ],
   "source": [
    "f'If this number {len(imdb_ratings[\"ID\"].unique())} is equal to {imdb_ratings[\"ID\"].count()}, then all the titles rated in this dataset are unique.'"
   ]
  },
  {
   "cell_type": "code",
   "execution_count": 8,
   "id": "a34d8978",
   "metadata": {
    "scrolled": true
   },
   "outputs": [
    {
     "data": {
      "text/plain": [
       "Average Rating\n",
       "7.2    52082\n",
       "7.4    49813\n",
       "7.6    49539\n",
       "7.8    48651\n",
       "7.0    47738\n",
       "       ...  \n",
       "1.5      442\n",
       "1.4      392\n",
       "1.2      385\n",
       "1.1      303\n",
       "1.3      277\n",
       "Name: count, Length: 91, dtype: int64"
      ]
     },
     "execution_count": 8,
     "metadata": {},
     "output_type": "execute_result"
    }
   ],
   "source": [
    "imdb_ratings['Average Rating'].value_counts()"
   ]
  },
  {
   "cell_type": "code",
   "execution_count": 9,
   "id": "eeeee9b0",
   "metadata": {},
   "outputs": [
    {
     "data": {
      "text/plain": [
       "count    1.384137e+06\n",
       "mean     6.957823e+00\n",
       "std      1.384182e+00\n",
       "min      1.000000e+00\n",
       "25%      6.200000e+00\n",
       "50%      7.200000e+00\n",
       "75%      7.900000e+00\n",
       "max      1.000000e+01\n",
       "Name: Average Rating, dtype: float64"
      ]
     },
     "execution_count": 9,
     "metadata": {},
     "output_type": "execute_result"
    }
   ],
   "source": [
    "imdb_ratings['Average Rating'].describe()"
   ]
  },
  {
   "cell_type": "code",
   "execution_count": 10,
   "id": "5d708a59",
   "metadata": {},
   "outputs": [
    {
     "data": {
      "text/plain": [
       "<Axes: >"
      ]
     },
     "execution_count": 10,
     "metadata": {},
     "output_type": "execute_result"
    },
    {
     "data": {
      "image/png": "[encoded data removed]",
      "text/plain": [
       "<Figure size 640x480 with 1 Axes>"
      ]
     },
     "metadata": {},
     "output_type": "display_data"
    }
   ],
   "source": [
    "imdb_ratings['Average Rating'].hist(bins=100)"
   ]
  },
  {
   "cell_type": "code",
   "execution_count": 11,
   "id": "6fc0dd71",
   "metadata": {
    "scrolled": true
   },
   "outputs": [
    {
     "data": {
      "text/html": [
       "<div>\n",
       "<style scoped>\n",
       "    .dataframe tbody tr th:only-of-type {\n",
       "        vertical-align: middle;\n",
       "    }\n",
       "\n",
       "    .dataframe tbody tr th {\n",
       "        vertical-align: top;\n",
       "    }\n",
       "\n",
       "    .dataframe thead th {\n",
       "        text-align: right;\n",
       "    }\n",
       "</style>\n",
       "<table border=\"1\" class=\"dataframe\">\n",
       "  <thead>\n",
       "    <tr style=\"text-align: right;\">\n",
       "      <th></th>\n",
       "      <th>tconst</th>\n",
       "      <th>titleType</th>\n",
       "      <th>primaryTitle</th>\n",
       "      <th>originalTitle</th>\n",
       "      <th>isAdult</th>\n",
       "      <th>startYear</th>\n",
       "      <th>endYear</th>\n",
       "      <th>runtimeMinutes</th>\n",
       "      <th>genres</th>\n",
       "    </tr>\n",
       "  </thead>\n",
       "  <tbody>\n",
       "    <tr>\n",
       "      <th>0</th>\n",
       "      <td>tt0000001</td>\n",
       "      <td>short</td>\n",
       "      <td>Carmencita</td>\n",
       "      <td>Carmencita</td>\n",
       "      <td>0</td>\n",
       "      <td>1894</td>\n",
       "      <td>\\N</td>\n",
       "      <td>1</td>\n",
       "      <td>Documentary,Short</td>\n",
       "    </tr>\n",
       "    <tr>\n",
       "      <th>1</th>\n",
       "      <td>tt0000002</td>\n",
       "      <td>short</td>\n",
       "      <td>Le clown et ses chiens</td>\n",
       "      <td>Le clown et ses chiens</td>\n",
       "      <td>0</td>\n",
       "      <td>1892</td>\n",
       "      <td>\\N</td>\n",
       "      <td>5</td>\n",
       "      <td>Animation,Short</td>\n",
       "    </tr>\n",
       "    <tr>\n",
       "      <th>2</th>\n",
       "      <td>tt0000003</td>\n",
       "      <td>short</td>\n",
       "      <td>Pauvre Pierrot</td>\n",
       "      <td>Pauvre Pierrot</td>\n",
       "      <td>0</td>\n",
       "      <td>1892</td>\n",
       "      <td>\\N</td>\n",
       "      <td>4</td>\n",
       "      <td>Animation,Comedy,Romance</td>\n",
       "    </tr>\n",
       "    <tr>\n",
       "      <th>3</th>\n",
       "      <td>tt0000004</td>\n",
       "      <td>short</td>\n",
       "      <td>Un bon bock</td>\n",
       "      <td>Un bon bock</td>\n",
       "      <td>0</td>\n",
       "      <td>1892</td>\n",
       "      <td>\\N</td>\n",
       "      <td>12</td>\n",
       "      <td>Animation,Short</td>\n",
       "    </tr>\n",
       "    <tr>\n",
       "      <th>4</th>\n",
       "      <td>tt0000005</td>\n",
       "      <td>short</td>\n",
       "      <td>Blacksmith Scene</td>\n",
       "      <td>Blacksmith Scene</td>\n",
       "      <td>0</td>\n",
       "      <td>1893</td>\n",
       "      <td>\\N</td>\n",
       "      <td>1</td>\n",
       "      <td>Comedy,Short</td>\n",
       "    </tr>\n",
       "  </tbody>\n",
       "</table>\n",
       "</div>"
      ],
      "text/plain": [
       "      tconst titleType            primaryTitle           originalTitle  \\\n",
       "0  tt0000001     short              Carmencita              Carmencita   \n",
       "1  tt0000002     short  Le clown et ses chiens  Le clown et ses chiens   \n",
       "2  tt0000003     short          Pauvre Pierrot          Pauvre Pierrot   \n",
       "3  tt0000004     short             Un bon bock             Un bon bock   \n",
       "4  tt0000005     short        Blacksmith Scene        Blacksmith Scene   \n",
       "\n",
       "  isAdult startYear endYear runtimeMinutes                    genres  \n",
       "0       0      1894      \\N              1         Documentary,Short  \n",
       "1       0      1892      \\N              5           Animation,Short  \n",
       "2       0      1892      \\N              4  Animation,Comedy,Romance  \n",
       "3       0      1892      \\N             12           Animation,Short  \n",
       "4       0      1893      \\N              1              Comedy,Short  "
      ]
     },
     "execution_count": 11,
     "metadata": {},
     "output_type": "execute_result"
    }
   ],
   "source": [
    "title_basics.head()"
   ]
  },
  {
   "cell_type": "code",
   "execution_count": 12,
   "id": "4a08fa96",
   "metadata": {},
   "outputs": [
    {
     "data": {
      "text/html": [
       "<div>\n",
       "<style scoped>\n",
       "    .dataframe tbody tr th:only-of-type {\n",
       "        vertical-align: middle;\n",
       "    }\n",
       "\n",
       "    .dataframe tbody tr th {\n",
       "        vertical-align: top;\n",
       "    }\n",
       "\n",
       "    .dataframe thead th {\n",
       "        text-align: right;\n",
       "    }\n",
       "</style>\n",
       "<table border=\"1\" class=\"dataframe\">\n",
       "  <thead>\n",
       "    <tr style=\"text-align: right;\">\n",
       "      <th></th>\n",
       "      <th>ID</th>\n",
       "      <th>Title Type</th>\n",
       "      <th>Primary Title</th>\n",
       "      <th>Original Title</th>\n",
       "      <th>Is Adult</th>\n",
       "      <th>Start Year</th>\n",
       "      <th>End Year</th>\n",
       "      <th>Runtime (minutes)</th>\n",
       "      <th>Genres</th>\n",
       "    </tr>\n",
       "  </thead>\n",
       "  <tbody>\n",
       "    <tr>\n",
       "      <th>0</th>\n",
       "      <td>tt0000001</td>\n",
       "      <td>short</td>\n",
       "      <td>Carmencita</td>\n",
       "      <td>Carmencita</td>\n",
       "      <td>0</td>\n",
       "      <td>1894</td>\n",
       "      <td>\\N</td>\n",
       "      <td>1</td>\n",
       "      <td>Documentary,Short</td>\n",
       "    </tr>\n",
       "    <tr>\n",
       "      <th>1</th>\n",
       "      <td>tt0000002</td>\n",
       "      <td>short</td>\n",
       "      <td>Le clown et ses chiens</td>\n",
       "      <td>Le clown et ses chiens</td>\n",
       "      <td>0</td>\n",
       "      <td>1892</td>\n",
       "      <td>\\N</td>\n",
       "      <td>5</td>\n",
       "      <td>Animation,Short</td>\n",
       "    </tr>\n",
       "    <tr>\n",
       "      <th>2</th>\n",
       "      <td>tt0000003</td>\n",
       "      <td>short</td>\n",
       "      <td>Pauvre Pierrot</td>\n",
       "      <td>Pauvre Pierrot</td>\n",
       "      <td>0</td>\n",
       "      <td>1892</td>\n",
       "      <td>\\N</td>\n",
       "      <td>4</td>\n",
       "      <td>Animation,Comedy,Romance</td>\n",
       "    </tr>\n",
       "    <tr>\n",
       "      <th>3</th>\n",
       "      <td>tt0000004</td>\n",
       "      <td>short</td>\n",
       "      <td>Un bon bock</td>\n",
       "      <td>Un bon bock</td>\n",
       "      <td>0</td>\n",
       "      <td>1892</td>\n",
       "      <td>\\N</td>\n",
       "      <td>12</td>\n",
       "      <td>Animation,Short</td>\n",
       "    </tr>\n",
       "    <tr>\n",
       "      <th>4</th>\n",
       "      <td>tt0000005</td>\n",
       "      <td>short</td>\n",
       "      <td>Blacksmith Scene</td>\n",
       "      <td>Blacksmith Scene</td>\n",
       "      <td>0</td>\n",
       "      <td>1893</td>\n",
       "      <td>\\N</td>\n",
       "      <td>1</td>\n",
       "      <td>Comedy,Short</td>\n",
       "    </tr>\n",
       "    <tr>\n",
       "      <th>...</th>\n",
       "      <td>...</td>\n",
       "      <td>...</td>\n",
       "      <td>...</td>\n",
       "      <td>...</td>\n",
       "      <td>...</td>\n",
       "      <td>...</td>\n",
       "      <td>...</td>\n",
       "      <td>...</td>\n",
       "      <td>...</td>\n",
       "    </tr>\n",
       "    <tr>\n",
       "      <th>10432626</th>\n",
       "      <td>tt9916848</td>\n",
       "      <td>tvEpisode</td>\n",
       "      <td>Episode #3.17</td>\n",
       "      <td>Episode #3.17</td>\n",
       "      <td>0</td>\n",
       "      <td>2009</td>\n",
       "      <td>\\N</td>\n",
       "      <td>\\N</td>\n",
       "      <td>Action,Drama,Family</td>\n",
       "    </tr>\n",
       "    <tr>\n",
       "      <th>10432627</th>\n",
       "      <td>tt9916850</td>\n",
       "      <td>tvEpisode</td>\n",
       "      <td>Episode #3.19</td>\n",
       "      <td>Episode #3.19</td>\n",
       "      <td>0</td>\n",
       "      <td>2010</td>\n",
       "      <td>\\N</td>\n",
       "      <td>\\N</td>\n",
       "      <td>Action,Drama,Family</td>\n",
       "    </tr>\n",
       "    <tr>\n",
       "      <th>10432628</th>\n",
       "      <td>tt9916852</td>\n",
       "      <td>tvEpisode</td>\n",
       "      <td>Episode #3.20</td>\n",
       "      <td>Episode #3.20</td>\n",
       "      <td>0</td>\n",
       "      <td>2010</td>\n",
       "      <td>\\N</td>\n",
       "      <td>\\N</td>\n",
       "      <td>Action,Drama,Family</td>\n",
       "    </tr>\n",
       "    <tr>\n",
       "      <th>10432629</th>\n",
       "      <td>tt9916856</td>\n",
       "      <td>short</td>\n",
       "      <td>The Wind</td>\n",
       "      <td>The Wind</td>\n",
       "      <td>0</td>\n",
       "      <td>2015</td>\n",
       "      <td>\\N</td>\n",
       "      <td>27</td>\n",
       "      <td>Short</td>\n",
       "    </tr>\n",
       "    <tr>\n",
       "      <th>10432630</th>\n",
       "      <td>tt9916880</td>\n",
       "      <td>tvEpisode</td>\n",
       "      <td>Horrid Henry Knows It All</td>\n",
       "      <td>Horrid Henry Knows It All</td>\n",
       "      <td>0</td>\n",
       "      <td>2014</td>\n",
       "      <td>\\N</td>\n",
       "      <td>10</td>\n",
       "      <td>Adventure,Animation,Comedy</td>\n",
       "    </tr>\n",
       "  </tbody>\n",
       "</table>\n",
       "<p>10432631 rows × 9 columns</p>\n",
       "</div>"
      ],
      "text/plain": [
       "                 ID Title Type              Primary Title  \\\n",
       "0         tt0000001      short                 Carmencita   \n",
       "1         tt0000002      short     Le clown et ses chiens   \n",
       "2         tt0000003      short             Pauvre Pierrot   \n",
       "3         tt0000004      short                Un bon bock   \n",
       "4         tt0000005      short           Blacksmith Scene   \n",
       "...             ...        ...                        ...   \n",
       "10432626  tt9916848  tvEpisode              Episode #3.17   \n",
       "10432627  tt9916850  tvEpisode              Episode #3.19   \n",
       "10432628  tt9916852  tvEpisode              Episode #3.20   \n",
       "10432629  tt9916856      short                   The Wind   \n",
       "10432630  tt9916880  tvEpisode  Horrid Henry Knows It All   \n",
       "\n",
       "                     Original Title Is Adult Start Year End Year  \\\n",
       "0                        Carmencita        0       1894       \\N   \n",
       "1            Le clown et ses chiens        0       1892       \\N   \n",
       "2                    Pauvre Pierrot        0       1892       \\N   \n",
       "3                       Un bon bock        0       1892       \\N   \n",
       "4                  Blacksmith Scene        0       1893       \\N   \n",
       "...                             ...      ...        ...      ...   \n",
       "10432626              Episode #3.17        0       2009       \\N   \n",
       "10432627              Episode #3.19        0       2010       \\N   \n",
       "10432628              Episode #3.20        0       2010       \\N   \n",
       "10432629                   The Wind        0       2015       \\N   \n",
       "10432630  Horrid Henry Knows It All        0       2014       \\N   \n",
       "\n",
       "         Runtime (minutes)                      Genres  \n",
       "0                        1           Documentary,Short  \n",
       "1                        5             Animation,Short  \n",
       "2                        4    Animation,Comedy,Romance  \n",
       "3                       12             Animation,Short  \n",
       "4                        1                Comedy,Short  \n",
       "...                    ...                         ...  \n",
       "10432626                \\N         Action,Drama,Family  \n",
       "10432627                \\N         Action,Drama,Family  \n",
       "10432628                \\N         Action,Drama,Family  \n",
       "10432629                27                       Short  \n",
       "10432630                10  Adventure,Animation,Comedy  \n",
       "\n",
       "[10432631 rows x 9 columns]"
      ]
     },
     "execution_count": 12,
     "metadata": {},
     "output_type": "execute_result"
    }
   ],
   "source": [
    "title_basics.columns = [\"ID\", \"Title Type\", \"Primary Title\", \"Original Title\", \"Is Adult\", \"Start Year\", \"End Year\", \"Runtime (minutes)\", \"Genres\"]\n",
    "title_basics"
   ]
  },
  {
   "cell_type": "code",
   "execution_count": 13,
   "id": "6e7478e3",
   "metadata": {
    "scrolled": true
   },
   "outputs": [
    {
     "name": "stdout",
     "output_type": "stream",
     "text": [
      "<class 'pandas.core.frame.DataFrame'>\n",
      "RangeIndex: 10432631 entries, 0 to 10432630\n",
      "Data columns (total 9 columns):\n",
      " #   Column             Dtype \n",
      "---  ------             ----- \n",
      " 0   ID                 object\n",
      " 1   Title Type         object\n",
      " 2   Primary Title      object\n",
      " 3   Original Title     object\n",
      " 4   Is Adult           object\n",
      " 5   Start Year         object\n",
      " 6   End Year           object\n",
      " 7   Runtime (minutes)  object\n",
      " 8   Genres             object\n",
      "dtypes: object(9)\n",
      "memory usage: 716.4+ MB\n"
     ]
    }
   ],
   "source": [
    "title_basics.info()"
   ]
  },
  {
   "cell_type": "code",
   "execution_count": 14,
   "id": "768acf8c",
   "metadata": {
    "scrolled": true
   },
   "outputs": [
    {
     "data": {
      "text/html": [
       "<div>\n",
       "<style scoped>\n",
       "    .dataframe tbody tr th:only-of-type {\n",
       "        vertical-align: middle;\n",
       "    }\n",
       "\n",
       "    .dataframe tbody tr th {\n",
       "        vertical-align: top;\n",
       "    }\n",
       "\n",
       "    .dataframe thead th {\n",
       "        text-align: right;\n",
       "    }\n",
       "</style>\n",
       "<table border=\"1\" class=\"dataframe\">\n",
       "  <thead>\n",
       "    <tr style=\"text-align: right;\">\n",
       "      <th></th>\n",
       "      <th>ID</th>\n",
       "      <th>Title Type</th>\n",
       "      <th>Primary Title</th>\n",
       "      <th>Original Title</th>\n",
       "      <th>Is Adult</th>\n",
       "      <th>Start Year</th>\n",
       "      <th>End Year</th>\n",
       "      <th>Runtime (minutes)</th>\n",
       "      <th>Genres</th>\n",
       "    </tr>\n",
       "  </thead>\n",
       "  <tbody>\n",
       "    <tr>\n",
       "      <th>count</th>\n",
       "      <td>10432631</td>\n",
       "      <td>10432631</td>\n",
       "      <td>10432614</td>\n",
       "      <td>10432614</td>\n",
       "      <td>10432631</td>\n",
       "      <td>10432631</td>\n",
       "      <td>10432631</td>\n",
       "      <td>10432631</td>\n",
       "      <td>10432613</td>\n",
       "    </tr>\n",
       "    <tr>\n",
       "      <th>unique</th>\n",
       "      <td>10432631</td>\n",
       "      <td>11</td>\n",
       "      <td>4683306</td>\n",
       "      <td>4706350</td>\n",
       "      <td>12</td>\n",
       "      <td>153</td>\n",
       "      <td>96</td>\n",
       "      <td>940</td>\n",
       "      <td>2358</td>\n",
       "    </tr>\n",
       "    <tr>\n",
       "      <th>top</th>\n",
       "      <td>tt0000001</td>\n",
       "      <td>tvEpisode</td>\n",
       "      <td>Episode #1.1</td>\n",
       "      <td>Episode #1.1</td>\n",
       "      <td>0</td>\n",
       "      <td>\\N</td>\n",
       "      <td>\\N</td>\n",
       "      <td>\\N</td>\n",
       "      <td>Drama</td>\n",
       "    </tr>\n",
       "    <tr>\n",
       "      <th>freq</th>\n",
       "      <td>1</td>\n",
       "      <td>7969517</td>\n",
       "      <td>50018</td>\n",
       "      <td>50018</td>\n",
       "      <td>10101701</td>\n",
       "      <td>1388747</td>\n",
       "      <td>10316202</td>\n",
       "      <td>7268233</td>\n",
       "      <td>1195407</td>\n",
       "    </tr>\n",
       "  </tbody>\n",
       "</table>\n",
       "</div>"
      ],
      "text/plain": [
       "               ID Title Type Primary Title Original Title  Is Adult  \\\n",
       "count    10432631   10432631      10432614       10432614  10432631   \n",
       "unique   10432631         11       4683306        4706350        12   \n",
       "top     tt0000001  tvEpisode  Episode #1.1   Episode #1.1         0   \n",
       "freq            1    7969517         50018          50018  10101701   \n",
       "\n",
       "       Start Year  End Year Runtime (minutes)    Genres  \n",
       "count    10432631  10432631          10432631  10432613  \n",
       "unique        153        96               940      2358  \n",
       "top            \\N        \\N                \\N     Drama  \n",
       "freq      1388747  10316202           7268233   1195407  "
      ]
     },
     "execution_count": 14,
     "metadata": {},
     "output_type": "execute_result"
    }
   ],
   "source": [
    "title_basics.describe()"
   ]
  },
  {
   "cell_type": "code",
   "execution_count": 15,
   "id": "36ede207",
   "metadata": {},
   "outputs": [],
   "source": [
    "#Convert Numerical Columns, coerce converts any conversion errors into NaN values, astype(\"Int64\") converts values back to integer type explicitly\n",
    "title_basics['Start Year'] = pd.to_numeric(title_basics['Start Year'], errors='coerce').astype('Int64')\n",
    "title_basics['End Year'] = pd.to_numeric(title_basics['End Year'], errors='coerce').astype('Int64')\n",
    "title_basics['Runtime (minutes)'] = pd.to_numeric(title_basics['Runtime (minutes)'], errors='coerce')"
   ]
  },
  {
   "cell_type": "code",
   "execution_count": 16,
   "id": "5a5f56d1",
   "metadata": {
    "scrolled": true
   },
   "outputs": [
    {
     "data": {
      "text/plain": [
       "ID                          0\n",
       "Title Type                  0\n",
       "Primary Title              17\n",
       "Original Title             17\n",
       "Is Adult                    0\n",
       "Start Year            1388747\n",
       "End Year             10316202\n",
       "Runtime (minutes)     7268251\n",
       "Genres                     18\n",
       "dtype: int64"
      ]
     },
     "execution_count": 16,
     "metadata": {},
     "output_type": "execute_result"
    }
   ],
   "source": [
    "title_basics.isnull().sum()"
   ]
  },
  {
   "cell_type": "code",
   "execution_count": 17,
   "id": "ecc6a19f",
   "metadata": {
    "scrolled": false
   },
   "outputs": [
    {
     "data": {
      "text/html": [
       "<div>\n",
       "<style scoped>\n",
       "    .dataframe tbody tr th:only-of-type {\n",
       "        vertical-align: middle;\n",
       "    }\n",
       "\n",
       "    .dataframe tbody tr th {\n",
       "        vertical-align: top;\n",
       "    }\n",
       "\n",
       "    .dataframe thead th {\n",
       "        text-align: right;\n",
       "    }\n",
       "</style>\n",
       "<table border=\"1\" class=\"dataframe\">\n",
       "  <thead>\n",
       "    <tr style=\"text-align: right;\">\n",
       "      <th></th>\n",
       "      <th>ID</th>\n",
       "      <th>Title Type</th>\n",
       "      <th>Primary Title</th>\n",
       "      <th>Original Title</th>\n",
       "      <th>Is Adult</th>\n",
       "      <th>Start Year</th>\n",
       "      <th>End Year</th>\n",
       "      <th>Runtime (minutes)</th>\n",
       "      <th>Genres</th>\n",
       "    </tr>\n",
       "  </thead>\n",
       "  <tbody>\n",
       "    <tr>\n",
       "      <th>0</th>\n",
       "      <td>tt0000001</td>\n",
       "      <td>short</td>\n",
       "      <td>Carmencita</td>\n",
       "      <td>Carmencita</td>\n",
       "      <td>0</td>\n",
       "      <td>1894</td>\n",
       "      <td>&lt;NA&gt;</td>\n",
       "      <td>1.0</td>\n",
       "      <td>Documentary,Short</td>\n",
       "    </tr>\n",
       "    <tr>\n",
       "      <th>1</th>\n",
       "      <td>tt0000002</td>\n",
       "      <td>short</td>\n",
       "      <td>Le clown et ses chiens</td>\n",
       "      <td>Le clown et ses chiens</td>\n",
       "      <td>0</td>\n",
       "      <td>1892</td>\n",
       "      <td>&lt;NA&gt;</td>\n",
       "      <td>5.0</td>\n",
       "      <td>Animation,Short</td>\n",
       "    </tr>\n",
       "    <tr>\n",
       "      <th>2</th>\n",
       "      <td>tt0000003</td>\n",
       "      <td>short</td>\n",
       "      <td>Pauvre Pierrot</td>\n",
       "      <td>Pauvre Pierrot</td>\n",
       "      <td>0</td>\n",
       "      <td>1892</td>\n",
       "      <td>&lt;NA&gt;</td>\n",
       "      <td>4.0</td>\n",
       "      <td>Animation,Comedy,Romance</td>\n",
       "    </tr>\n",
       "    <tr>\n",
       "      <th>3</th>\n",
       "      <td>tt0000004</td>\n",
       "      <td>short</td>\n",
       "      <td>Un bon bock</td>\n",
       "      <td>Un bon bock</td>\n",
       "      <td>0</td>\n",
       "      <td>1892</td>\n",
       "      <td>&lt;NA&gt;</td>\n",
       "      <td>12.0</td>\n",
       "      <td>Animation,Short</td>\n",
       "    </tr>\n",
       "    <tr>\n",
       "      <th>4</th>\n",
       "      <td>tt0000005</td>\n",
       "      <td>short</td>\n",
       "      <td>Blacksmith Scene</td>\n",
       "      <td>Blacksmith Scene</td>\n",
       "      <td>0</td>\n",
       "      <td>1893</td>\n",
       "      <td>&lt;NA&gt;</td>\n",
       "      <td>1.0</td>\n",
       "      <td>Comedy,Short</td>\n",
       "    </tr>\n",
       "    <tr>\n",
       "      <th>...</th>\n",
       "      <td>...</td>\n",
       "      <td>...</td>\n",
       "      <td>...</td>\n",
       "      <td>...</td>\n",
       "      <td>...</td>\n",
       "      <td>...</td>\n",
       "      <td>...</td>\n",
       "      <td>...</td>\n",
       "      <td>...</td>\n",
       "    </tr>\n",
       "    <tr>\n",
       "      <th>10432626</th>\n",
       "      <td>tt9916848</td>\n",
       "      <td>tvEpisode</td>\n",
       "      <td>Episode #3.17</td>\n",
       "      <td>Episode #3.17</td>\n",
       "      <td>0</td>\n",
       "      <td>2009</td>\n",
       "      <td>&lt;NA&gt;</td>\n",
       "      <td>NaN</td>\n",
       "      <td>Action,Drama,Family</td>\n",
       "    </tr>\n",
       "    <tr>\n",
       "      <th>10432627</th>\n",
       "      <td>tt9916850</td>\n",
       "      <td>tvEpisode</td>\n",
       "      <td>Episode #3.19</td>\n",
       "      <td>Episode #3.19</td>\n",
       "      <td>0</td>\n",
       "      <td>2010</td>\n",
       "      <td>&lt;NA&gt;</td>\n",
       "      <td>NaN</td>\n",
       "      <td>Action,Drama,Family</td>\n",
       "    </tr>\n",
       "    <tr>\n",
       "      <th>10432628</th>\n",
       "      <td>tt9916852</td>\n",
       "      <td>tvEpisode</td>\n",
       "      <td>Episode #3.20</td>\n",
       "      <td>Episode #3.20</td>\n",
       "      <td>0</td>\n",
       "      <td>2010</td>\n",
       "      <td>&lt;NA&gt;</td>\n",
       "      <td>NaN</td>\n",
       "      <td>Action,Drama,Family</td>\n",
       "    </tr>\n",
       "    <tr>\n",
       "      <th>10432629</th>\n",
       "      <td>tt9916856</td>\n",
       "      <td>short</td>\n",
       "      <td>The Wind</td>\n",
       "      <td>The Wind</td>\n",
       "      <td>0</td>\n",
       "      <td>2015</td>\n",
       "      <td>&lt;NA&gt;</td>\n",
       "      <td>27.0</td>\n",
       "      <td>Short</td>\n",
       "    </tr>\n",
       "    <tr>\n",
       "      <th>10432630</th>\n",
       "      <td>tt9916880</td>\n",
       "      <td>tvEpisode</td>\n",
       "      <td>Horrid Henry Knows It All</td>\n",
       "      <td>Horrid Henry Knows It All</td>\n",
       "      <td>0</td>\n",
       "      <td>2014</td>\n",
       "      <td>&lt;NA&gt;</td>\n",
       "      <td>10.0</td>\n",
       "      <td>Adventure,Animation,Comedy</td>\n",
       "    </tr>\n",
       "  </tbody>\n",
       "</table>\n",
       "<p>10432631 rows × 9 columns</p>\n",
       "</div>"
      ],
      "text/plain": [
       "                 ID Title Type              Primary Title  \\\n",
       "0         tt0000001      short                 Carmencita   \n",
       "1         tt0000002      short     Le clown et ses chiens   \n",
       "2         tt0000003      short             Pauvre Pierrot   \n",
       "3         tt0000004      short                Un bon bock   \n",
       "4         tt0000005      short           Blacksmith Scene   \n",
       "...             ...        ...                        ...   \n",
       "10432626  tt9916848  tvEpisode              Episode #3.17   \n",
       "10432627  tt9916850  tvEpisode              Episode #3.19   \n",
       "10432628  tt9916852  tvEpisode              Episode #3.20   \n",
       "10432629  tt9916856      short                   The Wind   \n",
       "10432630  tt9916880  tvEpisode  Horrid Henry Knows It All   \n",
       "\n",
       "                     Original Title Is Adult  Start Year  End Year  \\\n",
       "0                        Carmencita        0        1894      <NA>   \n",
       "1            Le clown et ses chiens        0        1892      <NA>   \n",
       "2                    Pauvre Pierrot        0        1892      <NA>   \n",
       "3                       Un bon bock        0        1892      <NA>   \n",
       "4                  Blacksmith Scene        0        1893      <NA>   \n",
       "...                             ...      ...         ...       ...   \n",
       "10432626              Episode #3.17        0        2009      <NA>   \n",
       "10432627              Episode #3.19        0        2010      <NA>   \n",
       "10432628              Episode #3.20        0        2010      <NA>   \n",
       "10432629                   The Wind        0        2015      <NA>   \n",
       "10432630  Horrid Henry Knows It All        0        2014      <NA>   \n",
       "\n",
       "          Runtime (minutes)                      Genres  \n",
       "0                       1.0           Documentary,Short  \n",
       "1                       5.0             Animation,Short  \n",
       "2                       4.0    Animation,Comedy,Romance  \n",
       "3                      12.0             Animation,Short  \n",
       "4                       1.0                Comedy,Short  \n",
       "...                     ...                         ...  \n",
       "10432626                NaN         Action,Drama,Family  \n",
       "10432627                NaN         Action,Drama,Family  \n",
       "10432628                NaN         Action,Drama,Family  \n",
       "10432629               27.0                       Short  \n",
       "10432630               10.0  Adventure,Animation,Comedy  \n",
       "\n",
       "[10432631 rows x 9 columns]"
      ]
     },
     "execution_count": 17,
     "metadata": {},
     "output_type": "execute_result"
    }
   ],
   "source": [
    "title_basics"
   ]
  },
  {
   "cell_type": "code",
   "execution_count": 19,
   "id": "e5f1de2d",
   "metadata": {},
   "outputs": [
    {
     "name": "stdout",
     "output_type": "stream",
     "text": [
      "Is Adult\n",
      "0       10101701\n",
      "1         330912\n",
      "2023           6\n",
      "2019           3\n",
      "2020           2\n",
      "1981           1\n",
      "2017           1\n",
      "\\N             1\n",
      "2022           1\n",
      "2011           1\n",
      "2014           1\n",
      "2005           1\n",
      "Name: count, dtype: int64\n"
     ]
    }
   ],
   "source": [
    "# Counting the number of occurrences of each unique value in the 'Is Adult' column\n",
    "unique_value_counts = title_basics['Is Adult'].value_counts()\n",
    "\n",
    "# Printing the counts\n",
    "print(unique_value_counts)\n"
   ]
  },
  {
   "cell_type": "code",
   "execution_count": null,
   "id": "314d0fbb",
   "metadata": {},
   "outputs": [],
   "source": [
    "# Replace values that are not '0' or '1' with NaN\n",
    "title_basics['Is Adult'] = pd.to_numeric(title_basics['Is Adult'], errors='coerce')\n",
    "\n",
    "# Any value that is not 0 or 1 is now NaN. Convert the column to boolean\n",
    "# NaN values will remain as NaN\n",
    "title_basics['Is Adult'] = title_basics['Is Adult'].map({0: False, 1: True})\n",
    "\n",
    "# Check the unique values again\n",
    "print(title_basics['Is Adult'].unique())\n",
    "\n",
    "# Check the DataFrame\n",
    "print(title_basics)"
   ]
  },
  {
   "cell_type": "code",
   "execution_count": null,
   "id": "54367ab7",
   "metadata": {},
   "outputs": [],
   "source": [
    "#Finding the number of unique values in the start year column that aren't years\n",
    "\n",
    "#Create a copy of the Star Year column in string format\n",
    "start_year_as_string  = title_basics['Start Year'].astype(str)\n",
    "\n",
    "# Filer out four-digit numbers from the column\n",
    "non_four_digit_years = start_year_as_string.apply(lambda x: x if len(x) != 4 else None)\n",
    "\n",
    "#Count the unique values that aren't years (four-digit values)\n",
    "\n",
    "non_four_digit_year_counts = non_four_digit_years.value_counts(dropna=True)\n",
    "\n",
    "print(non_four_digit_years_counts)"
   ]
  },
  {
   "cell_type": "code",
   "execution_count": null,
   "id": "0c03c6ae",
   "metadata": {},
   "outputs": [],
   "source": [
    "# Find the number of unique types of films\n",
    "count_unique_filmtypes = title_basics['Title Type'].value_counts()\n",
    "print(count_unique_filmtypes)"
   ]
  },
  {
   "cell_type": "code",
   "execution_count": null,
   "id": "409715ff",
   "metadata": {},
   "outputs": [],
   "source": [
    "# filter movie_basics df to include only rows where the Title Type column has values 'movie' or 'tvMovie'\n",
    "filtered_movies = title_basics[title_basics['Title Type'].isin(['movie', 'tvMovie'])]\n",
    "\n",
    "# Check the first few rows of the filtered DataFrame\n",
    "print(filtered_movies.head())"
   ]
  },
  {
   "cell_type": "code",
   "execution_count": null,
   "id": "2da8eba8",
   "metadata": {
    "scrolled": true
   },
   "outputs": [],
   "source": [
    "filtered_movies.isnull().sum()"
   ]
  },
  {
   "cell_type": "code",
   "execution_count": null,
   "id": "e85e7da7",
   "metadata": {},
   "outputs": [],
   "source": [
    "#Since we already have primary title we can remove the original title column \n",
    "#End Year column can be deleted as well as we are only looking at movies and no TV shows are include\n",
    "\n",
    "#Drop the \"Original Title\" and \"End Year\" columns (axis=1 indicates that columns are being dropped not rows and inplace=True marks changes to the datafram as permenant)\n",
    "\n",
    "filtered_movies = filtered_movies.drop(['Original Title', 'End Year'], axis=1)\n"
   ]
  },
  {
   "cell_type": "code",
   "execution_count": null,
   "id": "1c842d0e",
   "metadata": {
    "scrolled": true
   },
   "outputs": [],
   "source": [
    "filtered_movies.info()"
   ]
  },
  {
   "cell_type": "code",
   "execution_count": null,
   "id": "17518b41",
   "metadata": {
    "scrolled": true
   },
   "outputs": [],
   "source": [
    "filtered_movies"
   ]
  },
  {
   "cell_type": "code",
   "execution_count": null,
   "id": "c9b2467f",
   "metadata": {
    "scrolled": true
   },
   "outputs": [],
   "source": [
    "#Keep only movies with a known start year\n",
    "filtered_movies = filtered_movies.dropna(subset=['Start Year'])\n",
    "\n",
    "#Keep movies that have a title\n",
    "filtered_movies = filtered_movies[filtered_movies['Primary Title'].notna()] \n",
    "\n",
    "filtered_movies.info()\n",
    "filtered_movies.isnull().sum()"
   ]
  },
  {
   "cell_type": "code",
   "execution_count": null,
   "id": "97171120",
   "metadata": {},
   "outputs": [],
   "source": [
    "# Finding the number of genres in the table\n",
    "unique_genres = filtered_movies['Genres'].unique()\n",
    "print(len(unique_genres))"
   ]
  },
  {
   "cell_type": "code",
   "execution_count": null,
   "id": "9619e518",
   "metadata": {},
   "outputs": [],
   "source": [
    "# Filter out rows where 'Genres' column has '\\N'\n",
    "filtered_movies = filtered_movies[filtered_movies['Genres'] != '\\\\N']\n",
    "\n",
    "filtered_movies.info()"
   ]
  },
  {
   "cell_type": "code",
   "execution_count": null,
   "id": "4922db3e",
   "metadata": {},
   "outputs": [],
   "source": [
    "merged_df = pd.merge(filtered_movies, imdb_ratings, on=\"ID\", how='inner')\n",
    "merged_df"
   ]
  },
  {
   "cell_type": "code",
   "execution_count": null,
   "id": "1bf85573",
   "metadata": {},
   "outputs": [],
   "source": [
    "# Set display format to suppress scientific notation\n",
    "pd.set_option('display.float_format', '{:.2f}'.format)\n",
    "\n",
    "#get stats on the number of ratings to determine the minimum number of ratings to filter in your analysis\n",
    "merged_df['Number of Ratings'].describe()"
   ]
  },
  {
   "cell_type": "code",
   "execution_count": null,
   "id": "a651485f",
   "metadata": {},
   "outputs": [],
   "source": [
    "plt.boxplot(merged_df['Number of Ratings'].dropna())\n",
    "plt.title(\"Box Plot of Number of Ratings\")\n",
    "plt.ylabel(\"Number of Ratings\")\n",
    "plt.show()"
   ]
  },
  {
   "cell_type": "code",
   "execution_count": null,
   "id": "e011d1aa",
   "metadata": {},
   "outputs": [],
   "source": [
    "#####THIS HAS A HUGE INFLUENCE ON THE RESULTS AS IT CAN SKEW THE DISTRIBUTION OF DATA SO USE A MINIMUM NUMBER OF RATINGS THAT IS REASONABLE\n",
    "# filter the \"Number of Ratings\" column to only include movies with at least 50 ratings\n",
    "merged_df = merged_df[merged_df['Number of Ratings'] >= 300]\n",
    "\n",
    "merged_df\n"
   ]
  },
  {
   "cell_type": "code",
   "execution_count": null,
   "id": "bfda3669",
   "metadata": {},
   "outputs": [],
   "source": [
    "merged_df.isnull().sum()"
   ]
  },
  {
   "cell_type": "code",
   "execution_count": null,
   "id": "f417f984",
   "metadata": {},
   "outputs": [],
   "source": [
    "#Since we need the runtime of the movies and less than 10% of the movie in our dataset don't have runtime values, we can exclude the movies without runtimes\n",
    "merged_df = merged_df.dropna(subset=['Runtime (minutes)'])\n",
    "\n",
    "merged_df.info()\n"
   ]
  },
  {
   "cell_type": "code",
   "execution_count": null,
   "id": "07448253",
   "metadata": {},
   "outputs": [],
   "source": [
    "#Display the top 10 movies with the highest average ratings\n",
    "merged_df.sort_values(by=\"Average Rating\", ascending=False).head(10)"
   ]
  },
  {
   "cell_type": "code",
   "execution_count": null,
   "id": "86d3cd1d",
   "metadata": {},
   "outputs": [],
   "source": [
    "#Display the top 10 movies with the highest number of votes\n",
    "merged_df.sort_values(by=\"Number of Ratings\", ascending=False).head(10)"
   ]
  },
  {
   "cell_type": "code",
   "execution_count": null,
   "id": "86f1ad41",
   "metadata": {},
   "outputs": [],
   "source": [
    "#Finding the oldest and newest movie in the dataset by year\n",
    "merged_df_sorted = merged_df.sort_values(by=\"Start Year\", ascending=True)\n",
    "\n",
    "oldest_movie = merged_df_sorted.iloc[0]\n",
    "newest_movie = merged_df_sorted.iloc[-1]\n",
    "\n",
    "print(\"Oldest Movie:\")\n",
    "print(oldest_movie)\n",
    "print(\"\\nNewest Movie:\")\n",
    "print(newest_movie)"
   ]
  },
  {
   "cell_type": "code",
   "execution_count": null,
   "id": "4e956bd1",
   "metadata": {},
   "outputs": [],
   "source": [
    "#Looking at correlation between the different numberical columns\n",
    "numeric_cols = merged_df.select_dtypes(include=[np.number])\n",
    "numeric_cols.corr()\n"
   ]
  },
  {
   "cell_type": "code",
   "execution_count": null,
   "id": "15318707",
   "metadata": {
    "scrolled": true
   },
   "outputs": [],
   "source": [
    "#Group movies by year and find the mean runtime, average rating and number of ratings for each year\n",
    "yearly_avg_ratings = numeric_cols.groupby(\"Start Year\").mean()\n",
    "\n",
    "yearly_avg_ratings"
   ]
  },
  {
   "cell_type": "code",
   "execution_count": null,
   "id": "970dd2ba",
   "metadata": {
    "scrolled": true
   },
   "outputs": [],
   "source": [
    "yearly_avg_ratings.sort_values(\"Average Rating\", ascending=False)"
   ]
  },
  {
   "cell_type": "code",
   "execution_count": null,
   "id": "79e1ff4b",
   "metadata": {},
   "outputs": [],
   "source": [
    "yearly_avg_ratings[\"Number of Ratings\"].plot(kind='line')\n",
    "\n",
    "plt.figure(figsize=(8, 4))\n",
    "plt.title(\"Number of Ratings Over Time\")\n",
    "plt.xlabel(\"Year\")\n",
    "plt.ylabel('Average number of rating')"
   ]
  },
  {
   "cell_type": "code",
   "execution_count": null,
   "id": "d6bb9f21",
   "metadata": {},
   "outputs": [],
   "source": [
    "#Exploding genres to analyze the data by individual genres later\n",
    "\n",
    "#create a copy of merged_df and name it merged_df2\n",
    "merged_df2 = merged_df.copy()\n",
    "\n",
    "# Split the 'Genres' column into a list of genres\n",
    "\n",
    "merged_df2['Genres'] = merged_df2['Genres'].str.split(',')\n",
    "\n",
    "# Explode the genres list into individual rows\n",
    "exploded_genres_df = merged_df2.explode('Genres')\n",
    "\n",
    "# Now, you can perform analyses on the exploded_genres_df DataFrame\n",
    "# For example, to get the mean rating for each genre:\n",
    "genre_mean_ratings = exploded_genres_df.groupby('Genres')['Average Rating'].mean()\n",
    "genre_mean_ratings"
   ]
  },
  {
   "cell_type": "code",
   "execution_count": null,
   "id": "d6d22172",
   "metadata": {},
   "outputs": [],
   "source": [
    "exploded_genres_df"
   ]
  },
  {
   "cell_type": "code",
   "execution_count": null,
   "id": "2def6d4b",
   "metadata": {},
   "outputs": [],
   "source": [
    "len(exploded_genres_df['Genres'].unique())"
   ]
  },
  {
   "cell_type": "code",
   "execution_count": null,
   "id": "a597ecda",
   "metadata": {},
   "outputs": [],
   "source": [
    "# Add a column indicating the decade in which the movie was released\n",
    "\n",
    "#Get the decade of the movie\n",
    "def decade_generator(year):\n",
    "    return (year //10) * 10\n",
    "\n",
    "#Add the decade columnm to the data frame\n",
    "\n",
    "exploded_genres_df[\"Decade\"]= exploded_genres_df[\"Start Year\"].apply(decade_generator)\n"
   ]
  },
  {
   "cell_type": "code",
   "execution_count": null,
   "id": "4a84995f",
   "metadata": {},
   "outputs": [],
   "source": [
    "exploded_genres_df"
   ]
  },
  {
   "cell_type": "code",
   "execution_count": null,
   "id": "3a953c04",
   "metadata": {
    "scrolled": false
   },
   "outputs": [],
   "source": [
    "# Group by 'Genres' and 'Start Year' and calculate the mean rating\n",
    "genre_year_avg_rating = exploded_genres_df.groupby(['Genres', 'Start Year'])['Average Rating'].mean()\n",
    "\n",
    "# Pivot the table for better readability (optional)\n",
    "pivot_table = genre_year_avg_rating.unstack(level=0)\n",
    "\n",
    "print(pivot_table)"
   ]
  },
  {
   "cell_type": "code",
   "execution_count": null,
   "id": "5dbf5c00",
   "metadata": {},
   "outputs": [],
   "source": [
    "#Selecting a subset of genres for analysis\n",
    "\n",
    "selected_genres = ['Drama', 'Comedy', 'Action', 'Romance', 'Sci-Fi']  \n",
    "\n",
    "# Filter the pivot table to include only the selected genres\n",
    "filtered_pivot_table = pivot_table[selected_genres]\n",
    "\n"
   ]
  },
  {
   "cell_type": "code",
   "execution_count": null,
   "id": "554bdafb",
   "metadata": {
    "scrolled": false
   },
   "outputs": [],
   "source": [
    "#plotting with all genres\n",
    "#pivot_table.plot(kind='line', figsize=(15, 8))\n",
    "\n",
    "#plotting results with subset of genres\n",
    "filtered_pivot_table.plot(kind='line', figsize=(15, 8))\n",
    "\n",
    "\n",
    "# Adding labels and title for clarity\n",
    "plt.xlabel('Start Year')\n",
    "plt.ylabel('Average Rating')\n",
    "plt.title('Average Movie Rating by Genre Over Years')\n",
    "plt.legend(title='Genres', bbox_to_anchor=(1.05, 1), loc='upper left')\n",
    "plt.grid(True)\n",
    "\n",
    "# Show the plot\n",
    "plt.show()"
   ]
  },
  {
   "cell_type": "code",
   "execution_count": null,
   "id": "aaf3f3c8",
   "metadata": {},
   "outputs": [],
   "source": [
    "#Calculate the correlation of ratings for each genres compared to the overall rating average over time. \n",
    "#--> could be one insight you found"
   ]
  },
  {
   "cell_type": "code",
   "execution_count": null,
   "id": "d5ae577b",
   "metadata": {},
   "outputs": [],
   "source": [
    "#Export the movies with ratings dataframe to a CSV file for data visualization in Tableau\n",
    "\n",
    "exploded_genres_df.to_csv('IMDb_movie_ratingsv2.csv', index=False)"
   ]
  },
  {
   "cell_type": "code",
   "execution_count": null,
   "id": "36e0b852",
   "metadata": {},
   "outputs": [],
   "source": [
    "# Make another csv file but just with tv shows this time"
   ]
  },
  {
   "cell_type": "code",
   "execution_count": null,
   "id": "bd85cd1c",
   "metadata": {},
   "outputs": [],
   "source": [
    "#For exploratory analysis, you can group by year and genre, and adult movie --> could potentially import another dataset and have a look by countriy, region etc"
   ]
  },
  {
   "cell_type": "code",
   "execution_count": null,
   "id": "b9d1f9bd",
   "metadata": {
    "scrolled": true
   },
   "outputs": [],
   "source": []
  },
  {
   "cell_type": "code",
   "execution_count": null,
   "id": "97740de3",
   "metadata": {},
   "outputs": [],
   "source": []
  },
  {
   "cell_type": "code",
   "execution_count": null,
   "id": "af4b9469",
   "metadata": {},
   "outputs": [],
   "source": []
  },
  {
   "cell_type": "code",
   "execution_count": null,
   "id": "5dfb12fc",
   "metadata": {},
   "outputs": [],
   "source": []
  },
  {
   "cell_type": "code",
   "execution_count": null,
   "id": "875eb94b",
   "metadata": {},
   "outputs": [],
   "source": []
  }
 ],
 "metadata": {
  "kernelspec": {
   "display_name": "Python 3 (ipykernel)",
   "language": "python",
   "name": "python3"
  },
  "language_info": {
   "codemirror_mode": {
    "name": "ipython",
    "version": 3
   },
   "file_extension": ".py",
   "mimetype": "text/x-python",
   "name": "python",
   "nbconvert_exporter": "python",
   "pygments_lexer": "ipython3",
   "version": "3.11.5"
  }
 },
 "nbformat": 4,
 "nbformat_minor": 5
}
